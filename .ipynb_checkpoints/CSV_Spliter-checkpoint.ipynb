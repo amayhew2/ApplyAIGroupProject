{
 "cells": [
  {
   "cell_type": "code",
   "execution_count": 2,
   "id": "f4c6d932",
   "metadata": {},
   "outputs": [],
   "source": [
    "from numpy.random import RandomState\n",
    "import pandas as pd\n",
    "\n",
    "df = pd.read_csv('C:/Users/peiha/Documents/GitHub/ApplyAIGroupProject/original_train.csv')\n",
    "rng = RandomState()\n",
    "\n",
    "train = df.sample(frac=0.9, random_state=rng)\n",
    "test = df.loc[~df.index.isin(train.index)]\n",
    "\n",
    "train.to_csv('new_train.csv', index=False)\n",
    "test.to_csv('new_test.csv', index=False)"
   ]
  },
  {
   "cell_type": "code",
   "execution_count": null,
   "id": "34af977e",
   "metadata": {},
   "outputs": [],
   "source": []
  }
 ],
 "metadata": {
  "kernelspec": {
   "display_name": "Python 3",
   "language": "python",
   "name": "python3"
  },
  "language_info": {
   "codemirror_mode": {
    "name": "ipython",
    "version": 3
   },
   "file_extension": ".py",
   "mimetype": "text/x-python",
   "name": "python",
   "nbconvert_exporter": "python",
   "pygments_lexer": "ipython3",
   "version": "3.8.8"
  }
 },
 "nbformat": 4,
 "nbformat_minor": 5
}
